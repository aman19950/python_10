{
 "cells": [
  {
   "cell_type": "markdown",
   "id": "dca3a06b",
   "metadata": {},
   "source": [
    "## Strings"
   ]
  },
  {
   "cell_type": "code",
   "execution_count": 1,
   "id": "e8b921ea",
   "metadata": {},
   "outputs": [
    {
     "name": "stdout",
     "output_type": "stream",
     "text": [
      "HELLO HOW ARE YOU\n",
      "hello how are you\n",
      "Hello How Are You\n",
      "Hello how are you\n"
     ]
    }
   ],
   "source": [
    "x = \"hello how are you\"\n",
    "print(x.upper())\n",
    "print(x.lower())\n",
    "print(x.title())\n",
    "print(x.capitalize())"
   ]
  },
  {
   "cell_type": "code",
   "execution_count": 4,
   "id": "dd2b5dd0",
   "metadata": {},
   "outputs": [
    {
     "name": "stdout",
     "output_type": "stream",
     "text": [
      "False\n",
      "True\n",
      "False\n",
      "False\n",
      "False\n"
     ]
    }
   ],
   "source": [
    "x = \"hello how are you\"\n",
    "print(x.isupper())   #False\n",
    "print(x.islower())   #True\n",
    "print(x.isalpha())   #True\n",
    "print(x.isalnum())   #True\n",
    "print(x.isdigit())   #False"
   ]
  },
  {
   "cell_type": "code",
   "execution_count": 6,
   "id": "4e844240",
   "metadata": {},
   "outputs": [
    {
     "name": "stdout",
     "output_type": "stream",
     "text": [
      "17\n",
      "3\n"
     ]
    }
   ],
   "source": [
    "x = \"hello how are you\"\n",
    "print(len(x))\n",
    "print(x.count('o'))"
   ]
  },
  {
   "cell_type": "code",
   "execution_count": 7,
   "id": "e80eabfb",
   "metadata": {},
   "outputs": [
    {
     "name": "stdout",
     "output_type": "stream",
     "text": [
      "h\n",
      "l\n"
     ]
    }
   ],
   "source": [
    "#indexing\n",
    "x = \"hello\"\n",
    "print(x[0])\n",
    "print(x[-3])"
   ]
  },
  {
   "cell_type": "code",
   "execution_count": 8,
   "id": "20329214",
   "metadata": {},
   "outputs": [
    {
     "name": "stdout",
     "output_type": "stream",
     "text": [
      "hell\n"
     ]
    }
   ],
   "source": [
    "#slicing\n",
    "x = \"hello\"\n",
    "print(x[0:4])         #slicing x[start_index:stop_index]"
   ]
  },
  {
   "cell_type": "code",
   "execution_count": 10,
   "id": "f6b9c159",
   "metadata": {},
   "outputs": [
    {
     "name": "stdout",
     "output_type": "stream",
     "text": [
      "hlohw\n"
     ]
    }
   ],
   "source": [
    "x = \"hello how are you\"\n",
    "print(x[0:10:2])      #slicing x[start_index:stop_index:step/skip]"
   ]
  },
  {
   "cell_type": "code",
   "execution_count": 13,
   "id": "1a03b358",
   "metadata": {},
   "outputs": [
    {
     "name": "stdout",
     "output_type": "stream",
     "text": [
      "you\n",
      "hel\n"
     ]
    }
   ],
   "source": [
    "x = \"hello how are you\"\n",
    "print(x[-3:])\n",
    "print(x[ :3])"
   ]
  },
  {
   "cell_type": "code",
   "execution_count": 15,
   "id": "1d19a661",
   "metadata": {},
   "outputs": [
    {
     "name": "stdout",
     "output_type": "stream",
     "text": [
      "uoy era woh olleh\n"
     ]
    }
   ],
   "source": [
    "x = \"hello how are you\"\n",
    "print(x[ : :-1])"
   ]
  },
  {
   "cell_type": "code",
   "execution_count": 21,
   "id": "582be8cb",
   "metadata": {},
   "outputs": [
    {
     "name": "stdout",
     "output_type": "stream",
     "text": [
      "hiello hiow ahe yhu\n"
     ]
    }
   ],
   "source": [
    "x = \"hello how ahe yhu\"\n",
    "# print(x.replace(\"hello\",\"hi\"))\n",
    "print(x.replace('h',\"hi\",2))"
   ]
  },
  {
   "cell_type": "code",
   "execution_count": 35,
   "id": "54b8be07",
   "metadata": {},
   "outputs": [
    {
     "name": "stdout",
     "output_type": "stream",
     "text": [
      "11\n",
      "16\n"
     ]
    }
   ],
   "source": [
    "x = \"hello how ahe yoh\"\n",
    "# print(x.index('y'))\n",
    "print(x.index('h',7))\n",
    "print(x.rindex('h'))\n",
    "print(x.index('s'))"
   ]
  },
  {
   "cell_type": "code",
   "execution_count": 41,
   "id": "df02e7bc",
   "metadata": {},
   "outputs": [
    {
     "name": "stdout",
     "output_type": "stream",
     "text": [
      "0\n",
      "-1\n"
     ]
    }
   ],
   "source": [
    "x = \"hello\"\n",
    "# print(x.index('y'))\n",
    "# print(x.index('h',1))\n",
    "# print(x.rindex('h'))\n",
    "# print(x.index('s'))\n",
    "print(x.find('h'))\n",
    "print(x.find('s'))"
   ]
  },
  {
   "cell_type": "code",
   "execution_count": 42,
   "id": "8987f0b0",
   "metadata": {},
   "outputs": [
    {
     "name": "stdout",
     "output_type": "stream",
     "text": [
      "True\n",
      "True\n"
     ]
    }
   ],
   "source": [
    "x = \"hello how are you\"\n",
    "\n",
    "print(x.startswith('hello'))\n",
    "print(x.endswith(\"you\"))"
   ]
  },
  {
   "cell_type": "code",
   "execution_count": 49,
   "id": "923ba815",
   "metadata": {},
   "outputs": [
    {
     "name": "stdout",
     "output_type": "stream",
     "text": [
      "False\n",
      "False\n"
     ]
    }
   ],
   "source": [
    "x = \"123hello#\"\n",
    "print(x.isdigit())\n",
    "print(x.isnumeric())"
   ]
  },
  {
   "cell_type": "code",
   "execution_count": 50,
   "id": "ac691205",
   "metadata": {},
   "outputs": [
    {
     "data": {
      "text/plain": [
       "['__add__',\n",
       " '__class__',\n",
       " '__contains__',\n",
       " '__delattr__',\n",
       " '__dir__',\n",
       " '__doc__',\n",
       " '__eq__',\n",
       " '__format__',\n",
       " '__ge__',\n",
       " '__getattribute__',\n",
       " '__getitem__',\n",
       " '__getnewargs__',\n",
       " '__gt__',\n",
       " '__hash__',\n",
       " '__init__',\n",
       " '__init_subclass__',\n",
       " '__iter__',\n",
       " '__le__',\n",
       " '__len__',\n",
       " '__lt__',\n",
       " '__mod__',\n",
       " '__mul__',\n",
       " '__ne__',\n",
       " '__new__',\n",
       " '__reduce__',\n",
       " '__reduce_ex__',\n",
       " '__repr__',\n",
       " '__rmod__',\n",
       " '__rmul__',\n",
       " '__setattr__',\n",
       " '__sizeof__',\n",
       " '__str__',\n",
       " '__subclasshook__',\n",
       " 'capitalize',\n",
       " 'casefold',\n",
       " 'center',\n",
       " 'count',\n",
       " 'encode',\n",
       " 'endswith',\n",
       " 'expandtabs',\n",
       " 'find',\n",
       " 'format',\n",
       " 'format_map',\n",
       " 'index',\n",
       " 'isalnum',\n",
       " 'isalpha',\n",
       " 'isascii',\n",
       " 'isdecimal',\n",
       " 'isdigit',\n",
       " 'isidentifier',\n",
       " 'islower',\n",
       " 'isnumeric',\n",
       " 'isprintable',\n",
       " 'isspace',\n",
       " 'istitle',\n",
       " 'isupper',\n",
       " 'join',\n",
       " 'ljust',\n",
       " 'lower',\n",
       " 'lstrip',\n",
       " 'maketrans',\n",
       " 'partition',\n",
       " 'removeprefix',\n",
       " 'removesuffix',\n",
       " 'replace',\n",
       " 'rfind',\n",
       " 'rindex',\n",
       " 'rjust',\n",
       " 'rpartition',\n",
       " 'rsplit',\n",
       " 'rstrip',\n",
       " 'split',\n",
       " 'splitlines',\n",
       " 'startswith',\n",
       " 'strip',\n",
       " 'swapcase',\n",
       " 'title',\n",
       " 'translate',\n",
       " 'upper',\n",
       " 'zfill']"
      ]
     },
     "execution_count": 50,
     "metadata": {},
     "output_type": "execute_result"
    }
   ],
   "source": [
    "dir(\"str\")"
   ]
  },
  {
   "cell_type": "code",
   "execution_count": 52,
   "id": "4d9f7b6b",
   "metadata": {},
   "outputs": [
    {
     "name": "stdout",
     "output_type": "stream",
     "text": [
      "True\n",
      "65\n",
      "97\n",
      "90\n",
      "122\n"
     ]
    }
   ],
   "source": [
    "print(\"Hello\">\"HELLO\")\n",
    "print(ord('A'))\n",
    "print(ord('a'))\n",
    "print(ord('Z'))\n",
    "print(ord('z'))"
   ]
  },
  {
   "cell_type": "code",
   "execution_count": 53,
   "id": "800b0951",
   "metadata": {},
   "outputs": [
    {
     "name": "stdout",
     "output_type": "stream",
     "text": [
      "1518458438000\n",
      "1518458438032\n"
     ]
    }
   ],
   "source": [
    "x = 5\n",
    "y = 6\n",
    "print(id(x))\n",
    "print(id(y))"
   ]
  },
  {
   "cell_type": "code",
   "execution_count": 54,
   "id": "3d062c86",
   "metadata": {},
   "outputs": [
    {
     "name": "stdout",
     "output_type": "stream",
     "text": [
      "1518458438000\n",
      "1518458438000\n"
     ]
    }
   ],
   "source": [
    "x = 5\n",
    "y = 5\n",
    "print(id(x))\n",
    "print(id(y))"
   ]
  },
  {
   "cell_type": "code",
   "execution_count": null,
   "id": "97fd820f",
   "metadata": {},
   "outputs": [],
   "source": []
  }
 ],
 "metadata": {
  "kernelspec": {
   "display_name": "Python 3 (ipykernel)",
   "language": "python",
   "name": "python3"
  },
  "language_info": {
   "codemirror_mode": {
    "name": "ipython",
    "version": 3
   },
   "file_extension": ".py",
   "mimetype": "text/x-python",
   "name": "python",
   "nbconvert_exporter": "python",
   "pygments_lexer": "ipython3",
   "version": "3.10.9"
  }
 },
 "nbformat": 4,
 "nbformat_minor": 5
}
