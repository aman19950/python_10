{
 "cells": [
  {
   "cell_type": "code",
   "execution_count": 2,
   "id": "4a191090",
   "metadata": {},
   "outputs": [
    {
     "name": "stdout",
     "output_type": "stream",
     "text": [
      "[1, 2, 3, 100]\n",
      "[1, 2, 3, 100]\n",
      "2350304176512\n",
      "2350304176512\n"
     ]
    }
   ],
   "source": [
    "x = [1,2,3]\n",
    "y = x\n",
    "y.append(100)\n",
    "print(x)\n",
    "print(y)\n",
    "print(id(x))\n",
    "print(id(y))"
   ]
  },
  {
   "cell_type": "code",
   "execution_count": 6,
   "id": "577764a2",
   "metadata": {},
   "outputs": [
    {
     "name": "stdout",
     "output_type": "stream",
     "text": [
      "2350304176960\n",
      "2350304177024\n",
      "[[1, 2, 3, 100]]\n",
      "[[1, 2, 3, 100]]\n"
     ]
    }
   ],
   "source": [
    "import copy\n",
    "\n",
    "x = [[1,2,3]]\n",
    "y = copy.copy(x)\n",
    "y[0].append(100)\n",
    "print(id(x))\n",
    "print(id(y))\n",
    "print(x)\n",
    "print(y)"
   ]
  },
  {
   "cell_type": "code",
   "execution_count": 7,
   "id": "6ee299df",
   "metadata": {},
   "outputs": [
    {
     "name": "stdout",
     "output_type": "stream",
     "text": [
      "2350304176320\n",
      "2350304176064\n",
      "[[1, 2, 3]]\n",
      "[[1, 2, 3, 100]]\n"
     ]
    }
   ],
   "source": [
    "import copy\n",
    "\n",
    "x = [[1,2,3]]\n",
    "y = copy.deepcopy(x)\n",
    "y[0].append(100)\n",
    "print(id(x))\n",
    "print(id(y))\n",
    "print(x)\n",
    "print(y)"
   ]
  },
  {
   "cell_type": "code",
   "execution_count": null,
   "id": "2b8f4919",
   "metadata": {},
   "outputs": [],
   "source": []
  }
 ],
 "metadata": {
  "kernelspec": {
   "display_name": "Python 3 (ipykernel)",
   "language": "python",
   "name": "python3"
  },
  "language_info": {
   "codemirror_mode": {
    "name": "ipython",
    "version": 3
   },
   "file_extension": ".py",
   "mimetype": "text/x-python",
   "name": "python",
   "nbconvert_exporter": "python",
   "pygments_lexer": "ipython3",
   "version": "3.10.9"
  }
 },
 "nbformat": 4,
 "nbformat_minor": 5
}
