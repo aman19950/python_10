{
 "cells": [
  {
   "cell_type": "markdown",
   "id": "34b98fcc",
   "metadata": {},
   "source": [
    "### function\n",
    "- it is a piece of code of block to perform specific task"
   ]
  },
  {
   "cell_type": "code",
   "execution_count": null,
   "id": "58788635",
   "metadata": {},
   "outputs": [],
   "source": [
    "def xyz():    #defination / define\n",
    "    print(\"hello\")\n",
    "    \n",
    "xyz()   # calling \n",
    "xyz()   # calling \n",
    "xyz()   # calling "
   ]
  },
  {
   "cell_type": "code",
   "execution_count": null,
   "id": "35eb9cb3",
   "metadata": {},
   "outputs": [],
   "source": [
    "#positional parameterized function\n",
    "\n",
    "def xyz(x,y):       #formal arguments\n",
    "    z = x + y\n",
    "    print(z)\n",
    "    \n",
    "xyz(5,6)     # actual arguments\n",
    "xyz(11,10)   # actual arguments \n",
    "xyz(22,30)   # actual arguments"
   ]
  },
  {
   "cell_type": "code",
   "execution_count": null,
   "id": "ad2d24ef",
   "metadata": {},
   "outputs": [],
   "source": [
    "#positional parameterized function\n",
    "\n",
    "def xyz(x,y):       #formal arguments\n",
    "    z = x + y\n",
    "    print(z)\n",
    "    \n",
    "xyz(5,6)     # actual arguments\n"
   ]
  },
  {
   "cell_type": "code",
   "execution_count": null,
   "id": "03574bbb",
   "metadata": {},
   "outputs": [],
   "source": [
    "#default parameterized function\n",
    "\n",
    "def xyz(x=0,y=0):       #formal arguments\n",
    "    z = x + y\n",
    "    print(z)\n",
    "\n",
    "xyz()    \n",
    "xyz(5)     # actual arguments\n",
    "xyz(5,15)\n"
   ]
  },
  {
   "cell_type": "code",
   "execution_count": 2,
   "id": "b3801c67",
   "metadata": {},
   "outputs": [
    {
     "name": "stdout",
     "output_type": "stream",
     "text": [
      "200\n",
      "200\n"
     ]
    }
   ],
   "source": [
    "## global variable and local variable\n",
    "\n",
    "x =  10  #global variable\n",
    "y =  10  #global variable\n",
    "z =  20\n",
    "def abc():\n",
    "    global z\n",
    "    x = 100    #local variable\n",
    "    y = 100    #local variable\n",
    "    z = x + y  #local variable\n",
    "    print(z)\n",
    "    \n",
    "abc()    # 200\n",
    "print(z)"
   ]
  },
  {
   "cell_type": "code",
   "execution_count": 8,
   "id": "4ebe5804",
   "metadata": {},
   "outputs": [
    {
     "name": "stdout",
     "output_type": "stream",
     "text": [
      "(1, 2, 'hello', 3, 1, 2, 10, 20, 30)\n",
      "{}\n"
     ]
    }
   ],
   "source": [
    "## *args and **kwargs\n",
    "\n",
    "def xyz(*x,**y):\n",
    "    print(x)\n",
    "    print(y)\n",
    "    \n",
    "    \n",
    "xyz(1,2,\"hello\",3,1,2,10,20,30)"
   ]
  },
  {
   "cell_type": "code",
   "execution_count": null,
   "id": "edc0837c",
   "metadata": {},
   "outputs": [],
   "source": []
  }
 ],
 "metadata": {
  "kernelspec": {
   "display_name": "Python 3 (ipykernel)",
   "language": "python",
   "name": "python3"
  },
  "language_info": {
   "codemirror_mode": {
    "name": "ipython",
    "version": 3
   },
   "file_extension": ".py",
   "mimetype": "text/x-python",
   "name": "python",
   "nbconvert_exporter": "python",
   "pygments_lexer": "ipython3",
   "version": "3.10.9"
  }
 },
 "nbformat": 4,
 "nbformat_minor": 5
}
