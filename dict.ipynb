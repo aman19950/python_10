{
 "cells": [
  {
   "cell_type": "markdown",
   "id": "f629c444",
   "metadata": {},
   "source": [
    "## dict\n",
    "- dict is a collection key value pair\n",
    "- dict is ordered\n",
    "- dict is unindexed\n",
    "- dict is mutable"
   ]
  },
  {
   "cell_type": "code",
   "execution_count": 2,
   "id": "c1e0bde9",
   "metadata": {},
   "outputs": [
    {
     "name": "stdout",
     "output_type": "stream",
     "text": [
      "{'a': 1, 'b': 2, 'c': 3}\n",
      "2\n"
     ]
    }
   ],
   "source": [
    "x = {\n",
    "    'a':1,\n",
    "    'b':2,\n",
    "    'c':3\n",
    "}\n",
    "print(x)\n",
    "print(x['b'])"
   ]
  },
  {
   "cell_type": "code",
   "execution_count": 3,
   "id": "d48056e9",
   "metadata": {},
   "outputs": [
    {
     "name": "stdout",
     "output_type": "stream",
     "text": [
      "{'a': 1, 'b': 222, 'c': 3}\n"
     ]
    }
   ],
   "source": [
    "x = {\n",
    "    'a':1,\n",
    "    'b':2,\n",
    "    'c':3\n",
    "}\n",
    "x['b'] = 222\n",
    "print(x)"
   ]
  },
  {
   "cell_type": "code",
   "execution_count": 4,
   "id": "e3032f65",
   "metadata": {},
   "outputs": [
    {
     "name": "stdout",
     "output_type": "stream",
     "text": [
      "{'a': 1, 'b': 2, 'c': 3, 'd': 2000}\n"
     ]
    }
   ],
   "source": [
    "x = {\n",
    "    'a':1,\n",
    "    'b':2,\n",
    "    'c':3\n",
    "}\n",
    "# x['b'] = 222\n",
    "x['d'] = 2000\n",
    "print(x)"
   ]
  },
  {
   "cell_type": "code",
   "execution_count": 9,
   "id": "e791e089",
   "metadata": {},
   "outputs": [
    {
     "name": "stdout",
     "output_type": "stream",
     "text": [
      "key not found\n"
     ]
    }
   ],
   "source": [
    "x = {\n",
    "    'a':1,\n",
    "    'b':2,\n",
    "    'c':3\n",
    "}\n",
    "# print(x['b'])\n",
    "# print(x['d'])\n",
    "# print(x.get('b'))\n",
    "print(x.get('d','key not found'))"
   ]
  },
  {
   "cell_type": "code",
   "execution_count": 10,
   "id": "7bd8b586",
   "metadata": {},
   "outputs": [
    {
     "name": "stdout",
     "output_type": "stream",
     "text": [
      "{'a': 1, 'b': 2, 'c': 3, 78: 89, 8.2: 100}\n"
     ]
    }
   ],
   "source": [
    "x = {\n",
    "    'a':1,\n",
    "    'b':2,\n",
    "    'c':3,\n",
    "    78 : 89,\n",
    "    8.2 :100\n",
    "}\n",
    "print(x)"
   ]
  },
  {
   "cell_type": "code",
   "execution_count": 11,
   "id": "3a7860bc",
   "metadata": {},
   "outputs": [
    {
     "name": "stdout",
     "output_type": "stream",
     "text": [
      "{'name': ['sonu', 'monu', 'sohan'], 'marks': (34, 1, 21), 'age': {345, 12}}\n"
     ]
    }
   ],
   "source": [
    "x = {\n",
    "    'name' : ['sonu','monu','sohan'] ,\n",
    "    'marks': (34,1,21),\n",
    "    'age'  : {345,12,12},\n",
    "    \n",
    "}\n",
    "print(x)"
   ]
  },
  {
   "cell_type": "code",
   "execution_count": 12,
   "id": "24b473e2",
   "metadata": {},
   "outputs": [
    {
     "name": "stdout",
     "output_type": "stream",
     "text": [
      "{'name': ['sonu', 'monu', 'sohan', 'mohan'], 'marks': (34, 1, 21), 'age': {345, 12}}\n"
     ]
    }
   ],
   "source": [
    "x['name'].append('mohan')\n",
    "print(x)"
   ]
  },
  {
   "cell_type": "code",
   "execution_count": 13,
   "id": "09a5aaeb",
   "metadata": {},
   "outputs": [
    {
     "name": "stdout",
     "output_type": "stream",
     "text": [
      "dict_keys(['a', 'b', 'c', 78, 8.2])\n",
      "dict_values([1, 2, 3, 89, 100])\n",
      "dict_items([('a', 1), ('b', 2), ('c', 3), (78, 89), (8.2, 100)])\n"
     ]
    }
   ],
   "source": [
    "x = {\n",
    "    'a':1,\n",
    "    'b':2,\n",
    "    'c':3,\n",
    "    78 : 89,\n",
    "    8.2 :100\n",
    "}\n",
    "\n",
    "print(x.keys())\n",
    "print(x.values())\n",
    "print(x.items())"
   ]
  },
  {
   "cell_type": "code",
   "execution_count": 14,
   "id": "80006370",
   "metadata": {},
   "outputs": [
    {
     "name": "stdout",
     "output_type": "stream",
     "text": [
      "{'a': 11, 'b': 22, 'c': 33, 'd': 44, 'e': 55}\n"
     ]
    }
   ],
   "source": [
    "x = {\n",
    "    'a':11,'b':22,'c':33\n",
    "}\n",
    "\n",
    "# x['d'] = 44\n",
    "x.update({'d':44,'e':55})\n",
    "print(x)"
   ]
  },
  {
   "cell_type": "code",
   "execution_count": 15,
   "id": "1f8a3567",
   "metadata": {},
   "outputs": [
    {
     "name": "stdout",
     "output_type": "stream",
     "text": [
      "{'a': 100, 'b': 22, 'c': 33}\n"
     ]
    }
   ],
   "source": [
    "x = {\n",
    "    'a':11,\n",
    "    'b':22,\n",
    "    'c':33,\n",
    "    'a':100\n",
    "}\n",
    "print(x)"
   ]
  },
  {
   "cell_type": "code",
   "execution_count": 20,
   "id": "522d8d13",
   "metadata": {},
   "outputs": [
    {
     "name": "stdout",
     "output_type": "stream",
     "text": [
      "not present\n",
      "present\n",
      "present\n"
     ]
    }
   ],
   "source": [
    "x = {\n",
    "    'a':11,\n",
    "    'b':22,\n",
    "    'c':33,\n",
    "    'd':100\n",
    "}\n",
    "if 22 in x:\n",
    "    print(\"present\")\n",
    "else:\n",
    "    print(\"not present\")\n",
    "    \n",
    "\n",
    "if 22 in x.values():\n",
    "    print(\"present\")\n",
    "else:\n",
    "    print(\"not present\")\n",
    "    \n",
    "if ('b',22) in x.items():\n",
    "    print(\"present\")\n",
    "else:\n",
    "    print(\"not present\")"
   ]
  },
  {
   "cell_type": "code",
   "execution_count": 25,
   "id": "cdf69726",
   "metadata": {},
   "outputs": [
    {
     "name": "stdout",
     "output_type": "stream",
     "text": [
      "a --- 11\n",
      "b --- 22\n",
      "c --- 33\n",
      "d --- 100\n",
      "11 ---\n",
      "22 ---\n",
      "33 ---\n",
      "100 ---\n",
      "a --- 11\n",
      "b --- 22\n",
      "c --- 33\n",
      "d --- 100\n"
     ]
    }
   ],
   "source": [
    "x = {\n",
    "    'a':11,\n",
    "    'b':22,\n",
    "    'c':33,\n",
    "    'd':100\n",
    "}\n",
    "for i in x:\n",
    "    print(i,'---',x[i])\n",
    "\n",
    "for i in x.values():\n",
    "    print(i,'---')\n",
    "    \n",
    "for i,j in x.items():\n",
    "    print(i,'---',j)"
   ]
  },
  {
   "cell_type": "code",
   "execution_count": 26,
   "id": "0d642b37",
   "metadata": {},
   "outputs": [
    {
     "name": "stdout",
     "output_type": "stream",
     "text": [
      "{'a': 0, 'b': 0, 'c': 0}\n"
     ]
    }
   ],
   "source": [
    "x = ['a','b','c']\n",
    "y = 0\n",
    "\n",
    "# output\n",
    "# z = {'a':0,'b':0,'c':0}\n",
    "\n",
    "z = {}\n",
    "\n",
    "for i in x:\n",
    "    z[i] = y\n",
    "    \n",
    "print(z)"
   ]
  },
  {
   "cell_type": "code",
   "execution_count": 28,
   "id": "96cc8ef2",
   "metadata": {},
   "outputs": [
    {
     "name": "stdout",
     "output_type": "stream",
     "text": [
      "{'a': 1, 'b': 2, 'c': 3}\n"
     ]
    }
   ],
   "source": [
    "x = ['a','b','c']\n",
    "y = [1,2,3]\n",
    "\n",
    "# output\n",
    "# z = {'a':1,'b':2,'c':3}\n",
    "# z = {}\n",
    "# a = 0\n",
    "# for i in x:\n",
    "#     z[i] = y[a]\n",
    "#     a = a + 1\n",
    "\n",
    "z = {}\n",
    "\n",
    "for i in range(len(x)):\n",
    "    z.update({x[i]:y[i]})\n",
    "    \n",
    "print(z)\n"
   ]
  },
  {
   "cell_type": "code",
   "execution_count": 29,
   "id": "f0838474",
   "metadata": {},
   "outputs": [
    {
     "name": "stdout",
     "output_type": "stream",
     "text": [
      "[1, 2, 3, 100]\n",
      "((4, 5, 6), 200)\n"
     ]
    }
   ],
   "source": [
    "x = {\n",
    "    1 : [1,2,3],\n",
    "    2 : (4,5,6)\n",
    "}\n",
    "x[1].append(100)\n",
    "print(x[1])\n",
    "y = [x[2]]\n",
    "y.append(200)\n",
    "x[2] = tuple(y)\n",
    "print(x[2])"
   ]
  },
  {
   "cell_type": "code",
   "execution_count": 30,
   "id": "830fb8ba",
   "metadata": {},
   "outputs": [
    {
     "name": "stdout",
     "output_type": "stream",
     "text": [
      "{0: 1, 1: 1, 2: 1}\n"
     ]
    }
   ],
   "source": [
    "x = {}\n",
    "\n",
    "for i in range(3):\n",
    "    for j in range(2):\n",
    "        x[i] = j\n",
    "print(x)"
   ]
  },
  {
   "cell_type": "code",
   "execution_count": 34,
   "id": "2bad096d",
   "metadata": {},
   "outputs": [
    {
     "name": "stdout",
     "output_type": "stream",
     "text": [
      "True\n",
      "False\n"
     ]
    }
   ],
   "source": [
    "x = {'a':1,'b':2}\n",
    "y = {'b':2,'a':1}\n",
    "\n",
    "print(x == y)\n",
    "print(x != y)"
   ]
  },
  {
   "cell_type": "code",
   "execution_count": 35,
   "id": "9ff8e8ab",
   "metadata": {},
   "outputs": [
    {
     "name": "stdout",
     "output_type": "stream",
     "text": [
      "4\n"
     ]
    }
   ],
   "source": [
    "#home work\n",
    "# Q1. wap to sum and multiple each value of dict\n",
    "\n",
    "# x ={\n",
    "#     'a':1,'b':2,'c':3\n",
    "# }\n",
    "\n",
    "x = {}\n",
    "\n",
    "x[1] = 1\n",
    "x[2] = 2\n",
    "x[1] = x[1]+1\n",
    "s = 0\n",
    "for i in x:\n",
    "    s = s +x[i]\n",
    "    \n",
    "print(s)"
   ]
  },
  {
   "cell_type": "code",
   "execution_count": 36,
   "id": "f96a4c84",
   "metadata": {},
   "outputs": [
    {
     "name": "stdout",
     "output_type": "stream",
     "text": [
      "4\n"
     ]
    }
   ],
   "source": [
    "x = {}\n",
    "\n",
    "x[1] = 1\n",
    "x[2] = 2\n",
    "x[1.0] = x[1]+1\n",
    "s = 0\n",
    "for i in x:\n",
    "    s = s +x[i]\n",
    "    \n",
    "print(s)"
   ]
  },
  {
   "cell_type": "code",
   "execution_count": 6,
   "id": "0d501d14",
   "metadata": {},
   "outputs": [
    {
     "name": "stdout",
     "output_type": "stream",
     "text": [
      "sum = 6\n",
      "mul = 6\n"
     ]
    }
   ],
   "source": [
    "#home work\n",
    "# Q1. wap to sum and multiple each value of dict\n",
    "\n",
    "x ={\n",
    "    'a':1,\n",
    "    'b':2,\n",
    "    'c':3\n",
    "}\n",
    "s = 0\n",
    "m = 1\n",
    "\n",
    "for i in x:\n",
    "    s = s + x[i]\n",
    "    m = m * x[i]\n",
    "    \n",
    "print(\"sum =\",s)\n",
    "print(\"mul =\",m)"
   ]
  },
  {
   "cell_type": "code",
   "execution_count": 5,
   "id": "9f315a85",
   "metadata": {},
   "outputs": [
    {
     "name": "stdout",
     "output_type": "stream",
     "text": [
      "{}\n"
     ]
    }
   ],
   "source": [
    "x ={\n",
    "    'a':11,\n",
    "    'b':22,\n",
    "    'c':33\n",
    "}\n",
    "\n",
    "# del x\n",
    "# del x['b']\n",
    "# z = x.pop('b')\n",
    "# z = x.popitem()\n",
    "x.clear()\n",
    "print(x)\n",
    "# print(z)"
   ]
  },
  {
   "cell_type": "markdown",
   "id": "72247dee",
   "metadata": {},
   "source": [
    "### dict comph"
   ]
  },
  {
   "cell_type": "code",
   "execution_count": 8,
   "id": "b6f422f4",
   "metadata": {},
   "outputs": [
    {
     "name": "stdout",
     "output_type": "stream",
     "text": [
      "{0: 0, 1: 1, 2: 4, 3: 9, 4: 16, 5: 25}\n"
     ]
    }
   ],
   "source": [
    "# x = {1:1,2:4,3:9,4:16,5:25}\n",
    "x = {i:i*i for i in range(6)}\n",
    "print(x)"
   ]
  },
  {
   "cell_type": "code",
   "execution_count": 9,
   "id": "ac3e4f13",
   "metadata": {},
   "outputs": [
    {
     "name": "stdout",
     "output_type": "stream",
     "text": [
      "{1: 'a', 2: 'b', 3: 'c'}\n"
     ]
    }
   ],
   "source": [
    "z = {\n",
    "    'a':1,\n",
    "    'b':2,\n",
    "    'c':3\n",
    "}\n",
    "x = {val:k for k,val in z.items()}\n",
    "print(x)"
   ]
  },
  {
   "cell_type": "markdown",
   "id": "b39303bc",
   "metadata": {},
   "source": [
    "## Nested Dict"
   ]
  },
  {
   "cell_type": "code",
   "execution_count": 11,
   "id": "78335fd9",
   "metadata": {},
   "outputs": [
    {
     "name": "stdout",
     "output_type": "stream",
     "text": [
      "26\n",
      "{'a': {'name': 'sonu', 'age': 24}, 'b': {'name': 'monu', 'age': 54}}\n"
     ]
    }
   ],
   "source": [
    "x = {\n",
    "    'a': {\n",
    "        'name':'sonu',\n",
    "        'age':24\n",
    "    },\n",
    "    'b':{\n",
    "        'name':'monu',\n",
    "        'age':26\n",
    "    }\n",
    "}\n",
    "\n",
    "print(x['b']['age'])\n",
    "x['b']['age'] =54\n",
    "print(x)"
   ]
  },
  {
   "cell_type": "code",
   "execution_count": 12,
   "id": "e4871b66",
   "metadata": {},
   "outputs": [
    {
     "name": "stdout",
     "output_type": "stream",
     "text": [
      "D\n"
     ]
    }
   ],
   "source": [
    "x = {\n",
    "    1:{\n",
    "        'A':2,\n",
    "        '2':2\n",
    "    },\n",
    "    2:'B',\n",
    "    'B':'D',\n",
    "    'D':'E'\n",
    "}\n",
    "\n",
    "print(x[x[x[1]['2']]])"
   ]
  },
  {
   "cell_type": "code",
   "execution_count": null,
   "id": "3f80b7ba",
   "metadata": {},
   "outputs": [],
   "source": []
  }
 ],
 "metadata": {
  "kernelspec": {
   "display_name": "Python 3 (ipykernel)",
   "language": "python",
   "name": "python3"
  },
  "language_info": {
   "codemirror_mode": {
    "name": "ipython",
    "version": 3
   },
   "file_extension": ".py",
   "mimetype": "text/x-python",
   "name": "python",
   "nbconvert_exporter": "python",
   "pygments_lexer": "ipython3",
   "version": "3.10.9"
  }
 },
 "nbformat": 4,
 "nbformat_minor": 5
}
