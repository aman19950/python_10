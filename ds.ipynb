{
 "cells": [
  {
   "cell_type": "markdown",
   "id": "1f142ecb",
   "metadata": {},
   "source": [
    "### List ---> [ ] and Tuple ---->( )\n",
    "- list is a collection of different data types.(same in tuple)\n",
    "- list is ordered. (same in tuple)\n",
    "- list is indexed. (same in tuple)\n",
    "- repeative elements can be allowed in list and tuple also.\n",
    "- list is <b>mutable</b> and tuple is <b>immutable</b>"
   ]
  },
  {
   "cell_type": "code",
   "execution_count": 1,
   "id": "2b3465fb",
   "metadata": {},
   "outputs": [
    {
     "name": "stdout",
     "output_type": "stream",
     "text": [
      "[1, 4.5, 'hello', True, 56, 'hi']\n"
     ]
    }
   ],
   "source": [
    "x = [1,4.5,\"hello\",True,56,'hi']\n",
    "print(x)"
   ]
  },
  {
   "cell_type": "code",
   "execution_count": 2,
   "id": "2dbec8fd",
   "metadata": {},
   "outputs": [
    {
     "name": "stdout",
     "output_type": "stream",
     "text": [
      "True\n"
     ]
    }
   ],
   "source": [
    "x = [1, 4.5, \"hello\", True, 56, 'hi',1,1,1,]\n",
    "\n",
    "print(x[3])"
   ]
  },
  {
   "cell_type": "code",
   "execution_count": 3,
   "id": "2386fa99",
   "metadata": {},
   "outputs": [
    {
     "name": "stdout",
     "output_type": "stream",
     "text": [
      "[1, 4.5, 'hello', 'welcome', 56, 'hi', 1, 1, 1]\n"
     ]
    }
   ],
   "source": [
    "x = [1, 4.5, \"hello\", True, 56, 'hi',1,1,1,]\n",
    "x[3] = \"welcome\"\n",
    "print(x)"
   ]
  },
  {
   "cell_type": "code",
   "execution_count": 5,
   "id": "bf44e60e",
   "metadata": {},
   "outputs": [
    {
     "name": "stdout",
     "output_type": "stream",
     "text": [
      "[4.5, 'hello', True, 56]\n",
      "<class 'list'>\n"
     ]
    }
   ],
   "source": [
    "x = [1, 4.5, \"hello\", True, 56, 'hi']\n",
    "print(x[1:5])\n",
    "print(type(x))"
   ]
  },
  {
   "cell_type": "code",
   "execution_count": 11,
   "id": "bb1c7eb6",
   "metadata": {},
   "outputs": [
    {
     "name": "stdout",
     "output_type": "stream",
     "text": [
      "[11, 'h', 'e', 'l', 'l', 'o', 66]\n"
     ]
    }
   ],
   "source": [
    "x = [11,22,33,44,55,66]\n",
    "x[1:5] = \"hello\"\n",
    "# x[1:5] = [78,67,23,234,1,313,13,111]\n",
    "\n",
    "print(x)"
   ]
  },
  {
   "cell_type": "markdown",
   "id": "02048195",
   "metadata": {},
   "source": [
    "## Nested List"
   ]
  },
  {
   "cell_type": "code",
   "execution_count": 12,
   "id": "8530f392",
   "metadata": {},
   "outputs": [
    {
     "name": "stdout",
     "output_type": "stream",
     "text": [
      "7\n"
     ]
    }
   ],
   "source": [
    "x = [1, 2, [3, 4, 5, [6, 7, 8], 9, 10], 11, 12]\n",
    "print(x[2][3][1])"
   ]
  },
  {
   "cell_type": "code",
   "execution_count": 14,
   "id": "01fd3e82",
   "metadata": {},
   "outputs": [
    {
     "name": "stdout",
     "output_type": "stream",
     "text": [
      "9\n"
     ]
    }
   ],
   "source": [
    "x = [1, [2, 3, 4, 5, 6], 7, [8, 9, 10], 11, 12]\n",
    "print(x[3][1])"
   ]
  },
  {
   "cell_type": "code",
   "execution_count": 18,
   "id": "1889b1f1",
   "metadata": {},
   "outputs": [
    {
     "name": "stdout",
     "output_type": "stream",
     "text": [
      "[11, 22, 33, 44, 45, 2, 12, 31, 12]\n"
     ]
    }
   ],
   "source": [
    "x = [11,22,33,44]\n",
    "# x.append(55)            # it will add element in the last of the list\n",
    "# x.insert(0,55)          # it will insert element at a particular index\n",
    "x.extend([45,2,12,31,12]) # it will add multiple elements in the last of the list\n",
    "print(x)"
   ]
  },
  {
   "cell_type": "code",
   "execution_count": 21,
   "id": "15647982",
   "metadata": {},
   "outputs": [
    {
     "name": "stdout",
     "output_type": "stream",
     "text": [
      "[[1, [2, 3, 4, [5, 6, 3000, 7, 8], 9, 10, 11], 12]]\n"
     ]
    }
   ],
   "source": [
    "x = [[1, [2, 3, 4, [5, 6, 7, 8], 9, 10, 11], 12]]\n",
    "\n",
    "\n",
    "\n",
    "# x = [[1, [2, 3, 4, [5, 6, 7, 8,1000], 9, 10, 11], 12]]\n",
    "# x[0][1][3].append(1000)\n",
    "# print(x)\n",
    "# x = [[1, [2, 3, 4,2000, [5, 6, 7, 8], 9, 10, 11], 12]]\n",
    "# x[0][1].insert(3,2000)\n",
    "# print(x)\n",
    "# x = [[1, [2, 3, 4, [5, 6,3000, 7, 8], 9, 10, 11], 12]]\n",
    "# x[0][1][3].insert(2,3000)\n",
    "# print(x)"
   ]
  },
  {
   "cell_type": "code",
   "execution_count": 26,
   "id": "ba2c0cee",
   "metadata": {},
   "outputs": [
    {
     "name": "stdout",
     "output_type": "stream",
     "text": [
      "[[1, [2, 3, 4, [5, 6, 3000, 7, 8], 9, 10, 11], 12]]\n"
     ]
    }
   ],
   "source": [
    "x = [[1, [2, 3, 4, [5, 6, 7, 8], 9, 10, 11], 12]]\n",
    "y = x[0]\n",
    "z = y[1]\n",
    "g = z[3]\n",
    "x[0][1][3].insert(2,3000)\n",
    "print(x)"
   ]
  },
  {
   "cell_type": "code",
   "execution_count": 30,
   "id": "42e60582",
   "metadata": {},
   "outputs": [
    {
     "name": "stdout",
     "output_type": "stream",
     "text": [
      "min of x = 1\n",
      "max of x = 2333\n",
      "sum of x = 2758\n",
      "[2333, 322, 56, 34, 12, 1]\n"
     ]
    }
   ],
   "source": [
    "x = [56,1,12,2333,322,34]\n",
    "\n",
    "print(\"min of x =\",min(x))\n",
    "print(\"max of x =\",max(x))\n",
    "print(\"sum of x =\",sum(x))\n",
    "# x.sort()\n",
    "x.sort(reverse = True)\n",
    "print(x)"
   ]
  },
  {
   "cell_type": "code",
   "execution_count": 31,
   "id": "3408cab0",
   "metadata": {},
   "outputs": [
    {
     "name": "stdout",
     "output_type": "stream",
     "text": [
      "min of x = bye\n",
      "max of x = hi\n",
      "['bye', 'hello', 'hi']\n"
     ]
    }
   ],
   "source": [
    "# x = [1,2,3,\"hello\",56,\"bye\"]\n",
    "x = [\"hello\",\"bye\",\"hi\"]\n",
    "\n",
    "print(\"min of x =\",min(x))\n",
    "print(\"max of x =\",max(x))\n",
    "# print(\"sum of x =\",sum(x)) \n",
    "x.sort()\n",
    "# x.sort(reverse = True)\n",
    "print(x)"
   ]
  },
  {
   "cell_type": "code",
   "execution_count": 32,
   "id": "04a7f692",
   "metadata": {},
   "outputs": [
    {
     "name": "stdout",
     "output_type": "stream",
     "text": [
      "[1, 2, 3, 1, 2, 3, 1, 2, 3]\n"
     ]
    }
   ],
   "source": [
    "x = [1,2,3] * 3\n",
    "print(x)"
   ]
  },
  {
   "cell_type": "code",
   "execution_count": 37,
   "id": "10ff5780",
   "metadata": {},
   "outputs": [
    {
     "name": "stdout",
     "output_type": "stream",
     "text": [
      "2161603111872\n",
      "2161603111872\n",
      "2161603111872\n",
      "[[100], [100], [100]]\n"
     ]
    }
   ],
   "source": [
    "x = [ [] ] * 3\n",
    "x[1].append(100)\n",
    "print(id(x[0]))\n",
    "print(id(x[1]))\n",
    "print(id(x[2]))\n",
    "print(x)"
   ]
  },
  {
   "cell_type": "code",
   "execution_count": 38,
   "id": "40f49881",
   "metadata": {},
   "outputs": [
    {
     "name": "stdout",
     "output_type": "stream",
     "text": [
      "[[100], [], []]\n"
     ]
    }
   ],
   "source": [
    "x = [ [], [],[]]\n",
    "x[0].append(100)\n",
    "print(x)"
   ]
  },
  {
   "cell_type": "code",
   "execution_count": 45,
   "id": "37d4d426",
   "metadata": {},
   "outputs": [
    {
     "name": "stdout",
     "output_type": "stream",
     "text": [
      "2161603079168\n",
      "2161603133568\n",
      "True\n",
      "False\n"
     ]
    }
   ],
   "source": [
    "x = [1,2,3]\n",
    "y = [1,2,3]\n",
    "\n",
    "print(id(x))\n",
    "print(id(y))\n",
    "print(x == y)\n",
    "print(x is y)           # identity ope."
   ]
  },
  {
   "cell_type": "code",
   "execution_count": 47,
   "id": "997cbb48",
   "metadata": {},
   "outputs": [
    {
     "name": "stdout",
     "output_type": "stream",
     "text": [
      "True\n"
     ]
    }
   ],
   "source": [
    "x = [4,5,True,2,23,1,5434]\n",
    "\n",
    "print(min(x))"
   ]
  },
  {
   "cell_type": "code",
   "execution_count": 7,
   "id": "66d9e899",
   "metadata": {},
   "outputs": [
    {
     "name": "stdout",
     "output_type": "stream",
     "text": [
      "4\n",
      "1\n",
      "2\n"
     ]
    }
   ],
   "source": [
    "x = [\"hello\",\"hey\",\"hi\",\"bye\"]\n",
    "\n",
    "print(len(x))\n",
    "print(x.count(\"hey\"))\n",
    "print(x.index(\"hi\"))"
   ]
  },
  {
   "cell_type": "code",
   "execution_count": 3,
   "id": "03c5ea68",
   "metadata": {},
   "outputs": [
    {
     "name": "stdout",
     "output_type": "stream",
     "text": [
      "present\n",
      "not present\n"
     ]
    }
   ],
   "source": [
    "x = [11,22,33,44,55]\n",
    "\n",
    "if 22 in x:                     # membership ope.\n",
    "    print(\"present\")\n",
    "else:\n",
    "    print(\"not present\")\n",
    "    \n",
    "\n",
    "if 45 not in x:                # membership ope.\n",
    "    print(\"not present\")\n",
    "else:\n",
    "    print(\"present\")"
   ]
  },
  {
   "cell_type": "code",
   "execution_count": 5,
   "id": "2b182c91",
   "metadata": {},
   "outputs": [
    {
     "name": "stdout",
     "output_type": "stream",
     "text": [
      "this condition is false\n"
     ]
    }
   ],
   "source": [
    "if []:\n",
    "    print(\"this condition is true\")\n",
    "else:\n",
    "    print(\"this condition is false\")"
   ]
  },
  {
   "cell_type": "code",
   "execution_count": 9,
   "id": "5bf9e814",
   "metadata": {},
   "outputs": [
    {
     "name": "stdout",
     "output_type": "stream",
     "text": [
      "0 --- hello\n",
      "1 --- hey\n",
      "2 --- hi\n",
      "3 --- bye\n"
     ]
    }
   ],
   "source": [
    "x = [\"hello\",\"hey\",\"hi\",\"bye\"]\n",
    "\n",
    "# for i in x:\n",
    "#     print(i)\n",
    "    \n",
    "\n",
    "for i in range(len(x)):\n",
    "    print(i,\"---\",x[i])"
   ]
  },
  {
   "cell_type": "code",
   "execution_count": 17,
   "id": "34dde2af",
   "metadata": {},
   "outputs": [
    {
     "name": "stdout",
     "output_type": "stream",
     "text": [
      "[]\n"
     ]
    }
   ],
   "source": [
    "x = [11,22,33,44,55,22,22,33,22]\n",
    "\n",
    "# x.remove(22)\n",
    "# del x[3]\n",
    "# del x[1:4]\n",
    "# z = x.pop()\n",
    "# z =  x.pop(4)\n",
    "x.clear()\n",
    "print(x)\n",
    "# print(z + 100)"
   ]
  },
  {
   "cell_type": "code",
   "execution_count": 22,
   "id": "319e8cc9",
   "metadata": {},
   "outputs": [
    {
     "name": "stdout",
     "output_type": "stream",
     "text": [
      "[11, 33, 44, 55, 22, 33, 22]\n"
     ]
    }
   ],
   "source": [
    "# Q1. wap to remove all occurence of 22 from given list\n",
    "x = [11,22,33,44,22,22,22,55,22,22,33,22]\n",
    "\n",
    "for i in x:\n",
    "    if 22 == i:\n",
    "        x.remove(22)\n",
    "print(x)"
   ]
  },
  {
   "cell_type": "code",
   "execution_count": 23,
   "id": "5dc927b6",
   "metadata": {},
   "outputs": [
    {
     "name": "stdout",
     "output_type": "stream",
     "text": [
      "[11, 33, 44, 55, 33]\n"
     ]
    }
   ],
   "source": [
    "x = [11,22,33,44,22,22,22,55,22,22,33,22]\n",
    "\n",
    "while 22 in x:\n",
    "    x.remove(22)\n",
    "\n",
    "print(x)"
   ]
  },
  {
   "cell_type": "code",
   "execution_count": 26,
   "id": "6c000a30",
   "metadata": {},
   "outputs": [
    {
     "name": "stdout",
     "output_type": "stream",
     "text": [
      "['hello sonu', 'hello monu', 'hi sonu', 'hi monu']\n"
     ]
    }
   ],
   "source": [
    "# input:\n",
    "x = [\"hello\",\"hi\"]\n",
    "y = [\"sonu\",\"monu\"]\n",
    "\n",
    "# output:-\n",
    "# z = [\"hello sonu\",\"hello monu\",\"hi sonu\",\"hi monu\"]\n",
    "z = []\n",
    "\n",
    "for i in x:\n",
    "    for j in y:\n",
    "        z.append(i+\" \"+j)\n",
    "print(z)"
   ]
  },
  {
   "cell_type": "markdown",
   "id": "407f8fd1",
   "metadata": {},
   "source": [
    "## list comphresion\n"
   ]
  },
  {
   "cell_type": "code",
   "execution_count": 27,
   "id": "a86c46d1",
   "metadata": {},
   "outputs": [
    {
     "name": "stdout",
     "output_type": "stream",
     "text": [
      "['hello sonu', 'hello monu', 'hi sonu', 'hi monu']\n"
     ]
    }
   ],
   "source": [
    "# input:\n",
    "x = [\"hello\",\"hi\"]\n",
    "y = [\"sonu\",\"monu\"]\n",
    "\n",
    "# output:-\n",
    "# z = [\"hello sonu\",\"hello monu\",\"hi sonu\",\"hi monu\"]\n",
    "\n",
    "z = [i+\" \"+j for i in x for j in y]\n",
    "print(z)"
   ]
  },
  {
   "cell_type": "code",
   "execution_count": 29,
   "id": "38efd646",
   "metadata": {},
   "outputs": [
    {
     "name": "stdout",
     "output_type": "stream",
     "text": [
      "[2, 4, 6, 8, 10, 12, 14, 16, 18, 20, 22, 24, 26, 28, 30, 32, 34, 36, 38, 40, 42, 44, 46, 48, 50]\n"
     ]
    }
   ],
   "source": [
    "# Q2\n",
    "z = [i for i in range(2,51,2)]\n",
    "print(z)"
   ]
  },
  {
   "cell_type": "code",
   "execution_count": 30,
   "id": "f455c519",
   "metadata": {},
   "outputs": [
    {
     "name": "stdout",
     "output_type": "stream",
     "text": [
      "['my', 'name', 'is', 'aman']\n"
     ]
    }
   ],
   "source": [
    "# input:\n",
    "x = ['m','na','i','am']\n",
    "y = [\"y\",\"me\",'s','an']\n",
    "\n",
    "# output\n",
    "# z = [\"my\",\"name\",\"is\",\"aman\"]\n",
    "z = []\n",
    "\n",
    "for i in range(len(x)):\n",
    "    z.append(x[i]+y[i])\n",
    "\n",
    "print(z)"
   ]
  },
  {
   "cell_type": "code",
   "execution_count": 35,
   "id": "a09ee410",
   "metadata": {},
   "outputs": [
    {
     "name": "stdout",
     "output_type": "stream",
     "text": [
      "[11, 22, 33, 44, 55]\n"
     ]
    }
   ],
   "source": [
    "# Q3 wap to create a list of unique elements from  the given list\n",
    "x = [11,22,33,44,22,22,22,55,22,22,33,22]\n",
    "\n",
    "# output:\n",
    "# z = [11,22,33,44,55]\n",
    "z = []\n",
    "for i in x:\n",
    "    if i not in z:\n",
    "        z.append(i)\n",
    "        \n",
    "print(z)"
   ]
  },
  {
   "cell_type": "code",
   "execution_count": 36,
   "id": "cc371d4d",
   "metadata": {},
   "outputs": [
    {
     "name": "stdout",
     "output_type": "stream",
     "text": [
      "['12221', 'abba', 'baab']\n"
     ]
    }
   ],
   "source": [
    "# Q4\n",
    "x = [\"hello\",\"12221\",\"hey\",\"121\",\"abba\",\"abc\",\"baab\"]\n",
    "\n",
    "# output:\n",
    "# z = [\"12221\",'abba',\"baab\"]\n",
    "z = []\n",
    "\n",
    "for i in x:\n",
    "    if len(i) > 3 and i[0] == i[-1]:\n",
    "        z.append(i)\n",
    "print(z)"
   ]
  },
  {
   "cell_type": "code",
   "execution_count": 38,
   "id": "d825b160",
   "metadata": {},
   "outputs": [
    {
     "name": "stdout",
     "output_type": "stream",
     "text": [
      "sum =  15\n",
      "mul =  120\n"
     ]
    }
   ],
   "source": [
    "# Q4 wap to multiply and sum of all elements of the given list without using inbuilt function\n",
    "x = [1,2,3,4,5]\n",
    "\n",
    "s = 0\n",
    "m = 1\n",
    "\n",
    "for i in x:\n",
    "    s =  s + i\n",
    "    m =  m * i\n",
    "\n",
    "print(\"sum = \",s)\n",
    "print(\"mul = \",m)"
   ]
  },
  {
   "cell_type": "code",
   "execution_count": 2,
   "id": "9b36a58b",
   "metadata": {},
   "outputs": [
    {
     "name": "stdout",
     "output_type": "stream",
     "text": [
      "[1, 2, 3]\n",
      "[1, 2, 3]\n",
      "2579696544064\n",
      "2579696544064\n"
     ]
    }
   ],
   "source": [
    "# Q5 wap to create a list from user input\n",
    "\n",
    "x = [1,2,3]\n",
    "y = x\n",
    "\n",
    "print(x)\n",
    "print(y)\n",
    "print(id(x))\n",
    "print(id(y))"
   ]
  },
  {
   "cell_type": "code",
   "execution_count": 7,
   "id": "dd2945ec",
   "metadata": {},
   "outputs": [
    {
     "name": "stdout",
     "output_type": "stream",
     "text": [
      "[11, 33, 44, 55, 33]\n"
     ]
    }
   ],
   "source": [
    "x = [11,22,33,44,22,22,22,55,22,22,33,22]\n",
    "\n",
    "# z = [i for i in x if i != 22]\n",
    "z = []\n",
    "for i in x:\n",
    "    if i != 22:\n",
    "        z.append(i)\n",
    "print(z)\n"
   ]
  },
  {
   "cell_type": "code",
   "execution_count": 8,
   "id": "ccaadddc",
   "metadata": {},
   "outputs": [
    {
     "name": "stdout",
     "output_type": "stream",
     "text": [
      "enter your range = 5\n",
      "enter your elements = 67\n",
      "enter your elements = hello\n",
      "enter your elements = 89\n",
      "enter your elements = hi\n",
      "enter your elements = 90\n",
      "[67, 'hello', 89, 'hi', 90]\n"
     ]
    }
   ],
   "source": [
    "# Q5 wap to create a list from user input\n",
    "x = int(input(\"enter your range = \"))\n",
    "z = []\n",
    "for i in range(x):\n",
    "    \n",
    "    y = input(\"enter your elements = \")\n",
    "    \n",
    "    if y.isdigit():\n",
    "        z.append(int(y))\n",
    "    else:\n",
    "        z.append(y)\n",
    "        \n",
    "print(z)"
   ]
  },
  {
   "cell_type": "code",
   "execution_count": null,
   "id": "b8f46f06",
   "metadata": {},
   "outputs": [],
   "source": []
  }
 ],
 "metadata": {
  "kernelspec": {
   "display_name": "Python 3 (ipykernel)",
   "language": "python",
   "name": "python3"
  },
  "language_info": {
   "codemirror_mode": {
    "name": "ipython",
    "version": 3
   },
   "file_extension": ".py",
   "mimetype": "text/x-python",
   "name": "python",
   "nbconvert_exporter": "python",
   "pygments_lexer": "ipython3",
   "version": "3.10.9"
  }
 },
 "nbformat": 4,
 "nbformat_minor": 5
}
