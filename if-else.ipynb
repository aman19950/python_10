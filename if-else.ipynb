{
 "cells": [
  {
   "cell_type": "markdown",
   "id": "16d398f5",
   "metadata": {},
   "source": [
    "## if-else"
   ]
  },
  {
   "cell_type": "code",
   "execution_count": 6,
   "id": "1c15e7d8",
   "metadata": {},
   "outputs": [
    {
     "name": "stdout",
     "output_type": "stream",
     "text": [
      "bye\n"
     ]
    }
   ],
   "source": [
    "#conditional statements\n",
    "if(10 > 15):\n",
    "    print(\"hello\")\n",
    "    print(\"hi\")\n",
    "else:\n",
    "    print(\"bye\")"
   ]
  },
  {
   "cell_type": "code",
   "execution_count": 7,
   "id": "0688c880",
   "metadata": {},
   "outputs": [
    {
     "name": "stdout",
     "output_type": "stream",
     "text": [
      "one\n",
      "10.5\n",
      "-10\n",
      "heyyy\n",
      "true\n"
     ]
    }
   ],
   "source": [
    "if(1):\n",
    "    print(\"one\")\n",
    "    \n",
    "if(10.5):\n",
    "    print(\"10.5\")\n",
    "\n",
    "if(-10):\n",
    "    print(\"-10\")\n",
    "\n",
    "if(0):\n",
    "    print(\"zero\")\n",
    "    \n",
    "if(\"hello\"):\n",
    "    print(\"heyyy\")\n",
    "    \n",
    "if(True):\n",
    "    print(\"true\")\n",
    "\n",
    "if(False):\n",
    "    print(\"false\")\n",
    "    \n",
    "if(None):\n",
    "    print(\"none\")"
   ]
  },
  {
   "cell_type": "code",
   "execution_count": 10,
   "id": "446367bc",
   "metadata": {},
   "outputs": [
    {
     "name": "stdout",
     "output_type": "stream",
     "text": [
      "True\n",
      "False\n"
     ]
    }
   ],
   "source": [
    "print(bool(\"False\"))\n",
    "print(bool(False))"
   ]
  },
  {
   "cell_type": "markdown",
   "id": "f9269ac5",
   "metadata": {},
   "source": [
    "## if-elif-else"
   ]
  },
  {
   "cell_type": "code",
   "execution_count": 14,
   "id": "e6d075bd",
   "metadata": {},
   "outputs": [
    {
     "name": "stdout",
     "output_type": "stream",
     "text": [
      "bye\n"
     ]
    }
   ],
   "source": [
    "if(10 > 15):\n",
    "    print(\"hello\")\n",
    "elif(20 > 25):\n",
    "    print(\"hey\")\n",
    "elif(30 > 35):\n",
    "    print(\"hi\")\n",
    "else:\n",
    "    print(\"bye\")"
   ]
  },
  {
   "cell_type": "code",
   "execution_count": 16,
   "id": "9799ed02",
   "metadata": {},
   "outputs": [
    {
     "name": "stdout",
     "output_type": "stream",
     "text": [
      "enter a number = -6754\n",
      "-6754 is a -ve number\n"
     ]
    }
   ],
   "source": [
    "# Q1. wap to check a number is +ve or -ve from  user input\n",
    "\n",
    "x = int(input(\"enter a number = \"))\n",
    "\n",
    "if(x > 0):\n",
    "    print(x,\"is a +ve number\")\n",
    "else:\n",
    "    print(x,\"is a -ve number\")"
   ]
  },
  {
   "cell_type": "code",
   "execution_count": 19,
   "id": "b807ec05",
   "metadata": {},
   "outputs": [
    {
     "name": "stdout",
     "output_type": "stream",
     "text": [
      "enter as 1st number = 40\n",
      "enter as 2nd number = 20\n",
      "40 is greater than 20\n"
     ]
    }
   ],
   "source": [
    "# Q2. wap to find the number which is greater\n",
    "\n",
    "x = int(input(\"enter as 1st number = \"))\n",
    "y = int(input(\"enter as 2nd number = \"))\n",
    "\n",
    "if (x < y):\n",
    "    print(y,\"is greater than\",x)\n",
    "else:\n",
    "    \n",
    "    print(x,\"is greater than\",y)"
   ]
  },
  {
   "cell_type": "code",
   "execution_count": 27,
   "id": "b24b9aa8",
   "metadata": {},
   "outputs": [
    {
     "name": "stdout",
     "output_type": "stream",
     "text": [
      "enter a number = 18\n",
      "Fizz\n"
     ]
    }
   ],
   "source": [
    "# Q3. wap to print fizz if a number is divisible by 3 \n",
    "# print Buzz if a number is divisible by 5 \n",
    "# print FizzBuzz if a number is divisible by 3 and 5\n",
    "\n",
    "x = int(input(\"enter a number = \"))\n",
    "\n",
    "if(x % 3 == 0 and x % 5 == 0):\n",
    "    print(\"FizzBuzz\")\n",
    "elif(x % 5 == 0):\n",
    "    print(\"Buzz\")\n",
    "elif(x % 3 == 0 ):\n",
    "    print(\"Fizz\")\n",
    "else:\n",
    "    print(x,\"is not divisible by either 3 or 5\")"
   ]
  },
  {
   "cell_type": "code",
   "execution_count": 30,
   "id": "be7f21fe",
   "metadata": {},
   "outputs": [
    {
     "name": "stdout",
     "output_type": "stream",
     "text": [
      "enter a 1st side = 5\n",
      "enter a 2nd side = 6\n",
      "enter a 3rd side = 7\n",
      "sca. tri.\n"
     ]
    }
   ],
   "source": [
    "#Q4 wap to check a triangle is eq. iso. and scal.\n",
    "\n",
    "x = int(input(\"enter a 1st side = \"))\n",
    "y = int(input(\"enter a 2nd side = \"))\n",
    "z = int(input(\"enter a 3rd side = \"))\n",
    "\n",
    "if(x ==y == z):\n",
    "    print(\"eq. tri.\")\n",
    "elif(x == y or y == z or z == x):\n",
    "    print(\"iso. tri.\")\n",
    "else:\n",
    "    print(\"sca. tri.\")"
   ]
  },
  {
   "cell_type": "code",
   "execution_count": 31,
   "id": "daf6c67e",
   "metadata": {},
   "outputs": [],
   "source": [
    "# Q6\n",
    "# wap  to calculate the ele. bill (accept number of units from user) \n",
    "# according the following cond.\n",
    "# first  100 unit ---> no charge\n",
    "# next 100 unit   ---> Rs 5 per unit\n",
    "# after 200 unit -----> Rs. 10 per unit"
   ]
  },
  {
   "cell_type": "markdown",
   "id": "84e072a1",
   "metadata": {},
   "source": [
    "## Nested If"
   ]
  },
  {
   "cell_type": "code",
   "execution_count": 34,
   "id": "cf020e2d",
   "metadata": {},
   "outputs": [
    {
     "name": "stdout",
     "output_type": "stream",
     "text": [
      "hello\n"
     ]
    }
   ],
   "source": [
    "if (10 > 5):\n",
    "    print(\"hello\")\n",
    "    if(10 < 6):\n",
    "        print(\"hey\")\n",
    "        if(10 > 7):\n",
    "            print(\"hiii\")\n",
    "        else:\n",
    "            print(\"bye\")\n",
    "\n",
    "else:\n",
    "    print(\"bye 2\")"
   ]
  },
  {
   "cell_type": "code",
   "execution_count": 2,
   "id": "898a2a61",
   "metadata": {},
   "outputs": [
    {
     "name": "stdout",
     "output_type": "stream",
     "text": [
      "enter a per = 90\n",
      "Grade A\n"
     ]
    }
   ],
   "source": [
    "x = float(input(\"enter a per = \"))\n",
    "\n",
    "if(x>=80 and x <=100):\n",
    "    print(\"Grade A\")"
   ]
  },
  {
   "cell_type": "code",
   "execution_count": 4,
   "id": "a4a8e30d",
   "metadata": {},
   "outputs": [
    {
     "name": "stdout",
     "output_type": "stream",
     "text": [
      "enter a 1st number = 6\n",
      "enter a 2nd number = 7\n",
      "1.Press '+' for add\n",
      "2.press '-' for sub\n",
      "+\n",
      "13\n"
     ]
    }
   ],
   "source": [
    "x = int(input(\"enter a 1st number = \"))\n",
    "y = int(input(\"enter a 2nd number = \"))\n",
    "\n",
    "choice = input(\"1.Press '+' for add\\n2.press '-' for sub\\n\")\n",
    "\n",
    "if choice == '+':\n",
    "    print(x + y)\n",
    "elif choice == '-':\n",
    "    print(x-y)"
   ]
  },
  {
   "cell_type": "code",
   "execution_count": null,
   "id": "9b6fba55",
   "metadata": {},
   "outputs": [],
   "source": []
  }
 ],
 "metadata": {
  "kernelspec": {
   "display_name": "Python 3 (ipykernel)",
   "language": "python",
   "name": "python3"
  },
  "language_info": {
   "codemirror_mode": {
    "name": "ipython",
    "version": 3
   },
   "file_extension": ".py",
   "mimetype": "text/x-python",
   "name": "python",
   "nbconvert_exporter": "python",
   "pygments_lexer": "ipython3",
   "version": "3.10.9"
  }
 },
 "nbformat": 4,
 "nbformat_minor": 5
}
