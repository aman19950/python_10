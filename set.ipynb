{
 "cells": [
  {
   "cell_type": "markdown",
   "id": "c74bbf79",
   "metadata": {},
   "source": [
    "### Set ----> { }\n",
    "- set is a collection of unique elements.\n",
    "- set is unordered\n",
    "- set is unindexed\n",
    "- set is immutable"
   ]
  },
  {
   "cell_type": "code",
   "execution_count": 1,
   "id": "93a809e8",
   "metadata": {},
   "outputs": [
    {
     "name": "stdout",
     "output_type": "stream",
     "text": [
      "{1, 33, 'hello', 22, 344, 44, 'hi'}\n"
     ]
    }
   ],
   "source": [
    "x = {1,22,33,44,\"hello\",22,344,\"hi\"}\n",
    "\n",
    "print(x)"
   ]
  },
  {
   "cell_type": "code",
   "execution_count": 2,
   "id": "e599ff85",
   "metadata": {},
   "outputs": [
    {
     "name": "stdout",
     "output_type": "stream",
     "text": [
      "{33, 11, 44, 78, 22}\n"
     ]
    }
   ],
   "source": [
    "x = {11,22,33,44}\n",
    "x.add(78)\n",
    "print(x)"
   ]
  },
  {
   "cell_type": "code",
   "execution_count": 9,
   "id": "853af34f",
   "metadata": {},
   "outputs": [
    {
     "name": "stdout",
     "output_type": "stream",
     "text": [
      "{1, 2, 3, 4}\n",
      "{1, 2, 3, 4, 5, 6}\n"
     ]
    }
   ],
   "source": [
    "x = {1,2,3,4}\n",
    "y = {1,5,6,4}\n",
    "\n",
    "# x.update(y)\n",
    "z = x.union(y)\n",
    "print(x)\n",
    "print(z)"
   ]
  },
  {
   "cell_type": "code",
   "execution_count": 12,
   "id": "c10cd6ab",
   "metadata": {},
   "outputs": [
    {
     "name": "stdout",
     "output_type": "stream",
     "text": [
      "{2, 3}\n",
      "{2, 3, 5, 6}\n",
      "{1, 4}\n"
     ]
    }
   ],
   "source": [
    "x = {1,2,3,4}\n",
    "y = {1,5,6,4}\n",
    "\n",
    "z = x.difference(y)\n",
    "c = x.symmetric_difference(y)\n",
    "g =  x.intersection(y)\n",
    "print(z)\n",
    "print(c)\n",
    "print(g)"
   ]
  },
  {
   "cell_type": "code",
   "execution_count": 6,
   "id": "9845f7b3",
   "metadata": {},
   "outputs": [
    {
     "name": "stdout",
     "output_type": "stream",
     "text": [
      "set()\n"
     ]
    }
   ],
   "source": [
    "x = {11,22,33,44,22,22,33,11}\n",
    "\n",
    "# x.remove(22)\n",
    "# x.remove(66)\n",
    "# x.discard(22)\n",
    "# x.discard(66)\n",
    "# del x\n",
    "# x.pop()\n",
    "x.clear()\n",
    "print(x)"
   ]
  },
  {
   "cell_type": "code",
   "execution_count": null,
   "id": "76b6f77f",
   "metadata": {},
   "outputs": [],
   "source": [
    "z = set()"
   ]
  }
 ],
 "metadata": {
  "kernelspec": {
   "display_name": "Python 3 (ipykernel)",
   "language": "python",
   "name": "python3"
  },
  "language_info": {
   "codemirror_mode": {
    "name": "ipython",
    "version": 3
   },
   "file_extension": ".py",
   "mimetype": "text/x-python",
   "name": "python",
   "nbconvert_exporter": "python",
   "pygments_lexer": "ipython3",
   "version": "3.10.9"
  }
 },
 "nbformat": 4,
 "nbformat_minor": 5
}
